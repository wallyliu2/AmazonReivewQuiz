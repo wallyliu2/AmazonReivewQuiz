{
  "nbformat": 4,
  "nbformat_minor": 0,
  "metadata": {
    "kernelspec": {
      "display_name": "Python 3",
      "language": "python",
      "name": "python3"
    },
    "language_info": {
      "codemirror_mode": {
        "name": "ipython",
        "version": 3
      },
      "file_extension": ".py",
      "mimetype": "text/x-python",
      "name": "python",
      "nbconvert_exporter": "python",
      "pygments_lexer": "ipython3",
      "version": "3.7.4"
    },
    "colab": {
      "name": "MusicalInstruments_5Stars.ipynb",
      "provenance": [],
      "include_colab_link": true
    },
    "accelerator": "GPU"
  },
  "cells": [
    {
      "cell_type": "markdown",
      "metadata": {
        "id": "view-in-github",
        "colab_type": "text"
      },
      "source": [
        "<a href=\"https://colab.research.google.com/github/wallyliu2/AmazonReivewQuiz/blob/master/MusicalInstruments_5Stars.ipynb\" target=\"_parent\"><img src=\"https://colab.research.google.com/assets/colab-badge.svg\" alt=\"Open In Colab\"/></a>"
      ]
    },
    {
      "cell_type": "code",
      "metadata": {
        "id": "fnmCtA5r7rw0",
        "colab_type": "code",
        "colab": {}
      },
      "source": [
        "from google.colab import drive\n",
        "drive.mount('/content/drive')"
      ],
      "execution_count": null,
      "outputs": []
    },
    {
      "cell_type": "markdown",
      "metadata": {
        "id": "4xuGyvIFNBRU",
        "colab_type": "text"
      },
      "source": [
        "# Prepare Data"
      ]
    },
    {
      "cell_type": "code",
      "metadata": {
        "id": "u-yowz9r7iWp",
        "colab_type": "code",
        "colab": {
          "base_uri": "https://localhost:8080/",
          "height": 110
        },
        "outputId": "ecec582f-778e-42f3-a439-9f921957a3ad"
      },
      "source": [
        "# import packages we need and load the data into the notebook\n",
        "\n",
        "import pandas as pd\n",
        "import numpy as np\n",
        "import gzip\n",
        "\n",
        "def parse(path):\n",
        "  g = gzip.open(path, 'rb')\n",
        "  for l in g:\n",
        "    yield eval(l)\n",
        "\n",
        "def getDF(path):\n",
        "  i = 0\n",
        "  df = {}\n",
        "  for d in parse(path):\n",
        "    df[i] = d\n",
        "    i += 1\n",
        "  return pd.DataFrame.from_dict(df, orient='index')\n",
        "\n",
        "df = getDF('/content/drive/My Drive/AmazonDataset/reviews_Musical_Instruments_5.json.gz')\n",
        "df.head(1)"
      ],
      "execution_count": null,
      "outputs": [
        {
          "output_type": "execute_result",
          "data": {
            "text/html": [
              "<div>\n",
              "<style scoped>\n",
              "    .dataframe tbody tr th:only-of-type {\n",
              "        vertical-align: middle;\n",
              "    }\n",
              "\n",
              "    .dataframe tbody tr th {\n",
              "        vertical-align: top;\n",
              "    }\n",
              "\n",
              "    .dataframe thead th {\n",
              "        text-align: right;\n",
              "    }\n",
              "</style>\n",
              "<table border=\"1\" class=\"dataframe\">\n",
              "  <thead>\n",
              "    <tr style=\"text-align: right;\">\n",
              "      <th></th>\n",
              "      <th>reviewerID</th>\n",
              "      <th>asin</th>\n",
              "      <th>reviewerName</th>\n",
              "      <th>helpful</th>\n",
              "      <th>reviewText</th>\n",
              "      <th>overall</th>\n",
              "      <th>summary</th>\n",
              "      <th>unixReviewTime</th>\n",
              "      <th>reviewTime</th>\n",
              "    </tr>\n",
              "  </thead>\n",
              "  <tbody>\n",
              "    <tr>\n",
              "      <th>0</th>\n",
              "      <td>A2IBPI20UZIR0U</td>\n",
              "      <td>1384719342</td>\n",
              "      <td>cassandra tu \"Yeah, well, that's just like, u...</td>\n",
              "      <td>[0, 0]</td>\n",
              "      <td>Not much to write about here, but it does exac...</td>\n",
              "      <td>5.0</td>\n",
              "      <td>good</td>\n",
              "      <td>1393545600</td>\n",
              "      <td>02 28, 2014</td>\n",
              "    </tr>\n",
              "  </tbody>\n",
              "</table>\n",
              "</div>"
            ],
            "text/plain": [
              "       reviewerID        asin  ... unixReviewTime   reviewTime\n",
              "0  A2IBPI20UZIR0U  1384719342  ...     1393545600  02 28, 2014\n",
              "\n",
              "[1 rows x 9 columns]"
            ]
          },
          "metadata": {
            "tags": []
          },
          "execution_count": 2
        }
      ]
    },
    {
      "cell_type": "code",
      "metadata": {
        "id": "rGoaOp3g7iW5",
        "colab_type": "code",
        "colab": {
          "base_uri": "https://localhost:8080/",
          "height": 147
        },
        "outputId": "efa2ee5f-704a-41b6-c583-1df94cbd21da"
      },
      "source": [
        "# adding datetime columns to the dataframe\n",
        "\n",
        "from datetime import datetime\n",
        "\n",
        "date_obj = []\n",
        "month_obj = []\n",
        "year_obj = []\n",
        "\n",
        "for i in df[\"reviewTime\"]:\n",
        "    datestrip = datetime.strptime(i, '%m %d, %Y')\n",
        "    date_obj.append(datestrip)\n",
        "\n",
        "df[\"date\"] = date_obj\n",
        "df['Year'] = df.date.dt.year\n",
        "df['Month'] = df.date.dt.month\n",
        "df.head(1)"
      ],
      "execution_count": null,
      "outputs": [
        {
          "output_type": "execute_result",
          "data": {
            "text/html": [
              "<div>\n",
              "<style scoped>\n",
              "    .dataframe tbody tr th:only-of-type {\n",
              "        vertical-align: middle;\n",
              "    }\n",
              "\n",
              "    .dataframe tbody tr th {\n",
              "        vertical-align: top;\n",
              "    }\n",
              "\n",
              "    .dataframe thead th {\n",
              "        text-align: right;\n",
              "    }\n",
              "</style>\n",
              "<table border=\"1\" class=\"dataframe\">\n",
              "  <thead>\n",
              "    <tr style=\"text-align: right;\">\n",
              "      <th></th>\n",
              "      <th>reviewerID</th>\n",
              "      <th>asin</th>\n",
              "      <th>reviewerName</th>\n",
              "      <th>helpful</th>\n",
              "      <th>reviewText</th>\n",
              "      <th>overall</th>\n",
              "      <th>summary</th>\n",
              "      <th>unixReviewTime</th>\n",
              "      <th>reviewTime</th>\n",
              "      <th>date</th>\n",
              "      <th>Year</th>\n",
              "      <th>Month</th>\n",
              "    </tr>\n",
              "  </thead>\n",
              "  <tbody>\n",
              "    <tr>\n",
              "      <th>0</th>\n",
              "      <td>A2IBPI20UZIR0U</td>\n",
              "      <td>1384719342</td>\n",
              "      <td>cassandra tu \"Yeah, well, that's just like, u...</td>\n",
              "      <td>[0, 0]</td>\n",
              "      <td>Not much to write about here, but it does exac...</td>\n",
              "      <td>5.0</td>\n",
              "      <td>good</td>\n",
              "      <td>1393545600</td>\n",
              "      <td>02 28, 2014</td>\n",
              "      <td>2014-02-28</td>\n",
              "      <td>2014</td>\n",
              "      <td>2</td>\n",
              "    </tr>\n",
              "  </tbody>\n",
              "</table>\n",
              "</div>"
            ],
            "text/plain": [
              "       reviewerID        asin  ...  Year Month\n",
              "0  A2IBPI20UZIR0U  1384719342  ...  2014     2\n",
              "\n",
              "[1 rows x 12 columns]"
            ]
          },
          "metadata": {
            "tags": []
          },
          "execution_count": 3
        }
      ]
    },
    {
      "cell_type": "code",
      "metadata": {
        "id": "TY0oPHC-7iXU",
        "colab_type": "code",
        "colab": {
          "base_uri": "https://localhost:8080/",
          "height": 568
        },
        "outputId": "b15aa2d2-93e2-4569-d8dc-b4c70027ca58"
      },
      "source": [
        "# df[\"helpful\"][1][1]\n",
        "n_helpful = []\n",
        "d_helpful = []\n",
        "\n",
        "for i in df[\"helpful\"]:\n",
        "    n_helpful.append(i[0])\n",
        "\n",
        "df[\"n_helpful\"] = n_helpful\n",
        "\n",
        "for i in df[\"helpful\"]:\n",
        "    d_helpful.append(i[1])\n",
        "\n",
        "df[\"d_helpful\"] = d_helpful\n",
        "\n",
        "df[\"helpful_pct\"] = df[\"n_helpful\"]/df[\"d_helpful\"]\n",
        "\n",
        "helpful_yes = []\n",
        "\n",
        "for i in df[\"d_helpful\"]:\n",
        "    if i == 0:\n",
        "      helpful_yes.append(0)\n",
        "    else:\n",
        "      helpful_yes.append(1)\n",
        "\n",
        "df[\"helpful_yes\"] = helpful_yes\n",
        "\n",
        "review_length = []\n",
        "\n",
        "for i in df[\"reviewText\"]:\n",
        "    review_length.append(len(i))\n",
        "\n",
        "df[\"review_length\"] = review_length\n",
        "\n",
        "df = df.fillna(0) # fill na for helpful_pct\n",
        "\n",
        "df.iloc[45:50] # arbitery check"
      ],
      "execution_count": null,
      "outputs": [
        {
          "output_type": "execute_result",
          "data": {
            "text/html": [
              "<div>\n",
              "<style scoped>\n",
              "    .dataframe tbody tr th:only-of-type {\n",
              "        vertical-align: middle;\n",
              "    }\n",
              "\n",
              "    .dataframe tbody tr th {\n",
              "        vertical-align: top;\n",
              "    }\n",
              "\n",
              "    .dataframe thead th {\n",
              "        text-align: right;\n",
              "    }\n",
              "</style>\n",
              "<table border=\"1\" class=\"dataframe\">\n",
              "  <thead>\n",
              "    <tr style=\"text-align: right;\">\n",
              "      <th></th>\n",
              "      <th>reviewerID</th>\n",
              "      <th>asin</th>\n",
              "      <th>reviewerName</th>\n",
              "      <th>helpful</th>\n",
              "      <th>reviewText</th>\n",
              "      <th>overall</th>\n",
              "      <th>summary</th>\n",
              "      <th>unixReviewTime</th>\n",
              "      <th>reviewTime</th>\n",
              "      <th>date</th>\n",
              "      <th>Year</th>\n",
              "      <th>Month</th>\n",
              "      <th>n_helpful</th>\n",
              "      <th>d_helpful</th>\n",
              "      <th>helpful_pct</th>\n",
              "      <th>helpful_yes</th>\n",
              "      <th>review_length</th>\n",
              "    </tr>\n",
              "  </thead>\n",
              "  <tbody>\n",
              "    <tr>\n",
              "      <th>45</th>\n",
              "      <td>A398X9POBHK69N</td>\n",
              "      <td>B000068NW5</td>\n",
              "      <td>Ann Vande Zande</td>\n",
              "      <td>[0, 0]</td>\n",
              "      <td>This is a very nice cable for the price. I alr...</td>\n",
              "      <td>4.0</td>\n",
              "      <td>Does What You Want</td>\n",
              "      <td>1388966400</td>\n",
              "      <td>01 6, 2014</td>\n",
              "      <td>2014-01-06</td>\n",
              "      <td>2014</td>\n",
              "      <td>1</td>\n",
              "      <td>0</td>\n",
              "      <td>0</td>\n",
              "      <td>0.000000</td>\n",
              "      <td>0</td>\n",
              "      <td>242</td>\n",
              "    </tr>\n",
              "    <tr>\n",
              "      <th>46</th>\n",
              "      <td>A13A81NN0NRD1S</td>\n",
              "      <td>B000068NW5</td>\n",
              "      <td>aspiring saint \"TATITTLE\"</td>\n",
              "      <td>[12, 13]</td>\n",
              "      <td>Cheap and good texture rubber that does not ge...</td>\n",
              "      <td>4.0</td>\n",
              "      <td>flexible, soft rubber is great.</td>\n",
              "      <td>1290038400</td>\n",
              "      <td>11 18, 2010</td>\n",
              "      <td>2010-11-18</td>\n",
              "      <td>2010</td>\n",
              "      <td>11</td>\n",
              "      <td>12</td>\n",
              "      <td>13</td>\n",
              "      <td>0.923077</td>\n",
              "      <td>1</td>\n",
              "      <td>122</td>\n",
              "    </tr>\n",
              "    <tr>\n",
              "      <th>47</th>\n",
              "      <td>A1EUO0BU72JR7T</td>\n",
              "      <td>B000068NW5</td>\n",
              "      <td>Bilbo</td>\n",
              "      <td>[0, 0]</td>\n",
              "      <td>Seems sturdy enough, and no noise issues, so I...</td>\n",
              "      <td>5.0</td>\n",
              "      <td>Works wonderfully, no noise</td>\n",
              "      <td>1372291200</td>\n",
              "      <td>06 27, 2013</td>\n",
              "      <td>2013-06-27</td>\n",
              "      <td>2013</td>\n",
              "      <td>6</td>\n",
              "      <td>0</td>\n",
              "      <td>0</td>\n",
              "      <td>0.000000</td>\n",
              "      <td>0</td>\n",
              "      <td>192</td>\n",
              "    </tr>\n",
              "    <tr>\n",
              "      <th>48</th>\n",
              "      <td>A1H4WSC8JWS59N</td>\n",
              "      <td>B000068NW5</td>\n",
              "      <td>bradley</td>\n",
              "      <td>[0, 0]</td>\n",
              "      <td>I'm not a professional, but have been playing ...</td>\n",
              "      <td>5.0</td>\n",
              "      <td>excellent</td>\n",
              "      <td>1359504000</td>\n",
              "      <td>01 30, 2013</td>\n",
              "      <td>2013-01-30</td>\n",
              "      <td>2013</td>\n",
              "      <td>1</td>\n",
              "      <td>0</td>\n",
              "      <td>0</td>\n",
              "      <td>0.000000</td>\n",
              "      <td>0</td>\n",
              "      <td>156</td>\n",
              "    </tr>\n",
              "    <tr>\n",
              "      <th>49</th>\n",
              "      <td>A3OXHLG6DIBRW8</td>\n",
              "      <td>B000068NW5</td>\n",
              "      <td>C. Hill \"CFH\"</td>\n",
              "      <td>[0, 1]</td>\n",
              "      <td>This Hosa Cable is very well made, with good q...</td>\n",
              "      <td>5.0</td>\n",
              "      <td>Great Guitar Cable, Good Value - Highly Recomm...</td>\n",
              "      <td>1346803200</td>\n",
              "      <td>09 5, 2012</td>\n",
              "      <td>2012-09-05</td>\n",
              "      <td>2012</td>\n",
              "      <td>9</td>\n",
              "      <td>0</td>\n",
              "      <td>1</td>\n",
              "      <td>0.000000</td>\n",
              "      <td>1</td>\n",
              "      <td>425</td>\n",
              "    </tr>\n",
              "  </tbody>\n",
              "</table>\n",
              "</div>"
            ],
            "text/plain": [
              "        reviewerID        asin  ... helpful_yes review_length\n",
              "45  A398X9POBHK69N  B000068NW5  ...           0           242\n",
              "46  A13A81NN0NRD1S  B000068NW5  ...           1           122\n",
              "47  A1EUO0BU72JR7T  B000068NW5  ...           0           192\n",
              "48  A1H4WSC8JWS59N  B000068NW5  ...           0           156\n",
              "49  A3OXHLG6DIBRW8  B000068NW5  ...           1           425\n",
              "\n",
              "[5 rows x 17 columns]"
            ]
          },
          "metadata": {
            "tags": []
          },
          "execution_count": 4
        }
      ]
    },
    {
      "cell_type": "code",
      "metadata": {
        "id": "0I9bkolEM0sh",
        "colab_type": "code",
        "colab": {
          "base_uri": "https://localhost:8080/",
          "height": 147
        },
        "outputId": "57292f62-2103-43ca-d3ca-7d46197a0acf"
      },
      "source": [
        "# drop the columns that we don't need for exploring data at this time\n",
        "df = df.drop([\"reviewerName\",\"helpful\",\"unixReviewTime\",\"reviewTime\"],axis=1)\n",
        "df.head(1)"
      ],
      "execution_count": null,
      "outputs": [
        {
          "output_type": "execute_result",
          "data": {
            "text/html": [
              "<div>\n",
              "<style scoped>\n",
              "    .dataframe tbody tr th:only-of-type {\n",
              "        vertical-align: middle;\n",
              "    }\n",
              "\n",
              "    .dataframe tbody tr th {\n",
              "        vertical-align: top;\n",
              "    }\n",
              "\n",
              "    .dataframe thead th {\n",
              "        text-align: right;\n",
              "    }\n",
              "</style>\n",
              "<table border=\"1\" class=\"dataframe\">\n",
              "  <thead>\n",
              "    <tr style=\"text-align: right;\">\n",
              "      <th></th>\n",
              "      <th>reviewerID</th>\n",
              "      <th>asin</th>\n",
              "      <th>reviewText</th>\n",
              "      <th>overall</th>\n",
              "      <th>summary</th>\n",
              "      <th>date</th>\n",
              "      <th>Year</th>\n",
              "      <th>Month</th>\n",
              "      <th>n_helpful</th>\n",
              "      <th>d_helpful</th>\n",
              "      <th>helpful_pct</th>\n",
              "      <th>helpful_yes</th>\n",
              "      <th>review_length</th>\n",
              "    </tr>\n",
              "  </thead>\n",
              "  <tbody>\n",
              "    <tr>\n",
              "      <th>0</th>\n",
              "      <td>A2IBPI20UZIR0U</td>\n",
              "      <td>1384719342</td>\n",
              "      <td>Not much to write about here, but it does exac...</td>\n",
              "      <td>5.0</td>\n",
              "      <td>good</td>\n",
              "      <td>2014-02-28</td>\n",
              "      <td>2014</td>\n",
              "      <td>2</td>\n",
              "      <td>0</td>\n",
              "      <td>0</td>\n",
              "      <td>0.0</td>\n",
              "      <td>0</td>\n",
              "      <td>268</td>\n",
              "    </tr>\n",
              "  </tbody>\n",
              "</table>\n",
              "</div>"
            ],
            "text/plain": [
              "       reviewerID        asin  ... helpful_yes  review_length\n",
              "0  A2IBPI20UZIR0U  1384719342  ...           0            268\n",
              "\n",
              "[1 rows x 13 columns]"
            ]
          },
          "metadata": {
            "tags": []
          },
          "execution_count": 5
        }
      ]
    },
    {
      "cell_type": "markdown",
      "metadata": {
        "id": "aJxUAH21O0Ck",
        "colab_type": "text"
      },
      "source": [
        "# EDA"
      ]
    },
    {
      "cell_type": "code",
      "metadata": {
        "id": "JtjE7LJu7iXR",
        "colab_type": "code",
        "colab": {}
      },
      "source": [
        "df_new = df.copy()"
      ],
      "execution_count": null,
      "outputs": []
    },
    {
      "cell_type": "code",
      "metadata": {
        "id": "__G7T5j77iXj",
        "colab_type": "code",
        "colab": {
          "base_uri": "https://localhost:8080/",
          "height": 353
        },
        "outputId": "045bdd34-e59d-4351-db65-d3d1f3b050ea"
      },
      "source": [
        "df_new.info()"
      ],
      "execution_count": null,
      "outputs": [
        {
          "output_type": "stream",
          "text": [
            "<class 'pandas.core.frame.DataFrame'>\n",
            "Int64Index: 10261 entries, 0 to 10260\n",
            "Data columns (total 13 columns):\n",
            " #   Column         Non-Null Count  Dtype         \n",
            "---  ------         --------------  -----         \n",
            " 0   reviewerID     10261 non-null  object        \n",
            " 1   asin           10261 non-null  object        \n",
            " 2   reviewText     10261 non-null  object        \n",
            " 3   overall        10261 non-null  float64       \n",
            " 4   summary        10261 non-null  object        \n",
            " 5   date           10261 non-null  datetime64[ns]\n",
            " 6   Year           10261 non-null  int64         \n",
            " 7   Month          10261 non-null  int64         \n",
            " 8   n_helpful      10261 non-null  int64         \n",
            " 9   d_helpful      10261 non-null  int64         \n",
            " 10  helpful_pct    10261 non-null  float64       \n",
            " 11  helpful_yes    10261 non-null  int64         \n",
            " 12  review_length  10261 non-null  int64         \n",
            "dtypes: datetime64[ns](1), float64(2), int64(6), object(4)\n",
            "memory usage: 1.1+ MB\n"
          ],
          "name": "stdout"
        }
      ]
    },
    {
      "cell_type": "code",
      "metadata": {
        "scrolled": true,
        "id": "5nJRUcSb7iXO",
        "colab_type": "code",
        "colab": {
          "base_uri": "https://localhost:8080/",
          "height": 168
        },
        "outputId": "f017ba71-5ffe-4ad9-e23e-02ee2d4552a9"
      },
      "source": [
        "# check the overall(star) info within reviews\n",
        "df_new.overall.describe()"
      ],
      "execution_count": null,
      "outputs": [
        {
          "output_type": "execute_result",
          "data": {
            "text/plain": [
              "count    10261.000000\n",
              "mean         4.488744\n",
              "std          0.894642\n",
              "min          1.000000\n",
              "25%          4.000000\n",
              "50%          5.000000\n",
              "75%          5.000000\n",
              "max          5.000000\n",
              "Name: overall, dtype: float64"
            ]
          },
          "metadata": {
            "tags": []
          },
          "execution_count": 8
        }
      ]
    },
    {
      "cell_type": "code",
      "metadata": {
        "id": "QdjZpjx-AovP",
        "colab_type": "code",
        "colab": {
          "base_uri": "https://localhost:8080/",
          "height": 118
        },
        "outputId": "d311c7e2-ec2a-45db-9219-b11956cd0324"
      },
      "source": [
        "# the percentage of reviews by star\n",
        "df_new.overall.value_counts()/len(df_new.reviewerID)"
      ],
      "execution_count": null,
      "outputs": [
        {
          "output_type": "execute_result",
          "data": {
            "text/plain": [
              "5.0    0.676152\n",
              "4.0    0.203099\n",
              "3.0    0.075236\n",
              "2.0    0.024364\n",
              "1.0    0.021148\n",
              "Name: overall, dtype: float64"
            ]
          },
          "metadata": {
            "tags": []
          },
          "execution_count": 9
        }
      ]
    },
    {
      "cell_type": "code",
      "metadata": {
        "id": "wCIcs13-SIyZ",
        "colab_type": "code",
        "colab": {
          "base_uri": "https://localhost:8080/",
          "height": 118
        },
        "outputId": "383f9cb5-dc7c-4174-8e93-498f3ecd70a0"
      },
      "source": [
        "# the percentage of helpful reviews by star\n",
        "df_new[df_new[\"helpful_yes\"]==1].overall.value_counts()/df_new.overall.value_counts()"
      ],
      "execution_count": null,
      "outputs": [
        {
          "output_type": "execute_result",
          "data": {
            "text/plain": [
              "5.0    0.301816\n",
              "4.0    0.349808\n",
              "3.0    0.454663\n",
              "2.0    0.588000\n",
              "1.0    0.663594\n",
              "Name: overall, dtype: float64"
            ]
          },
          "metadata": {
            "tags": []
          },
          "execution_count": 10
        }
      ]
    },
    {
      "cell_type": "code",
      "metadata": {
        "id": "4BjWgDqQP1rz",
        "colab_type": "code",
        "colab": {
          "base_uri": "https://localhost:8080/",
          "height": 318
        },
        "outputId": "0fb04c6a-5ebf-479c-b596-4d479ac3b6fb"
      },
      "source": [
        "# Use seaborn to draw a violin plot of overall vs helpful counts \n",
        "import seaborn as sb\n",
        "\n",
        "sb.violinplot(data=[df_new[\"overall\"],df_new[df_new[\"helpful_yes\"]==1].overall], inner=\"quartile\", bw=0.2);"
      ],
      "execution_count": null,
      "outputs": [
        {
          "output_type": "stream",
          "text": [
            "/usr/local/lib/python3.6/dist-packages/statsmodels/tools/_testing.py:19: FutureWarning: pandas.util.testing is deprecated. Use the functions in the public API at pandas.testing instead.\n",
            "  import pandas.util.testing as tm\n"
          ],
          "name": "stderr"
        },
        {
          "output_type": "display_data",
          "data": {
            "image/png": "[encoded data removed]",
            "text/plain": [
              "<Figure size 432x288 with 1 Axes>"
            ]
          },
          "metadata": {
            "tags": [],
            "needs_background": "light"
          }
        }
      ]
    },
    {
      "cell_type": "code",
      "metadata": {
        "id": "dhi4cnz5wLxD",
        "colab_type": "code",
        "colab": {
          "base_uri": "https://localhost:8080/",
          "height": 279
        },
        "outputId": "2af1157f-db01-47dd-88e3-342c955b722b"
      },
      "source": [
        "# how many helpful reviews for each star\n",
        "\n",
        "df_star_count = df_new.groupby(\"overall\").agg({\"helpful_yes\":\"sum\"})\n",
        "ax = df_star_count.plot.bar(legend=False,rot=0,color=\"yellow\");\n",
        "ax.set_xlabel(\"star\");\n",
        "ax.set_ylabel(\"helpful counts\");\n",
        "fig = ax.get_figure()\n",
        "fig.savefig('helpful_in_star.png')"
      ],
      "execution_count": null,
      "outputs": [
        {
          "output_type": "display_data",
          "data": {
            "image/png": "[encoded data removed]",
            "text/plain": [
              "<Figure size 432x288 with 1 Axes>"
            ]
          },
          "metadata": {
            "tags": [],
            "needs_background": "light"
          }
        }
      ]
    },
    {
      "cell_type": "code",
      "metadata": {
        "id": "cUPIEzjJzmvx",
        "colab_type": "code",
        "colab": {
          "base_uri": "https://localhost:8080/",
          "height": 280
        },
        "outputId": "62409924-0a3d-408a-87ef-3bee22eff222"
      },
      "source": [
        "#df_new.plot.scatter(x=\"review_length\",y=\"overall\");\n",
        "ax = sb.scatterplot(\"review_length\",\"overall\",s=30,hue=\"helpful_yes\",data=df_new)\n",
        "# the length of reviews vs. helpful or not in 5 star review\n",
        "# ax = sb.scatterplot(\"review_length\",\"helpful_yes\",s=30,edgecolor=\"none\",data=df_new[df_new.overall==5])\n",
        "fig = ax.get_figure()\n",
        "fig.savefig('/content/drive/My Drive/M_helpfulReview_in_length.png')"
      ],
      "execution_count": null,
      "outputs": [
        {
          "output_type": "display_data",
          "data": {
            "image/png": "[encoded data removed]",
            "text/plain": [
              "<Figure size 432x288 with 1 Axes>"
            ]
          },
          "metadata": {
            "tags": [],
            "needs_background": "light"
          }
        }
      ]
    },
    {
      "cell_type": "code",
      "metadata": {
        "id": "FYR10EuS7iX-",
        "colab_type": "code",
        "colab": {}
      },
      "source": [
        "#!pip install wordcloud\n",
        "\n",
        "from wordcloud import WordCloud, STOPWORDS, ImageColorGenerator\n",
        "import matplotlib.pyplot as plt"
      ],
      "execution_count": null,
      "outputs": []
    },
    {
      "cell_type": "code",
      "metadata": {
        "id": "pUbW97ym7iYA",
        "colab_type": "code",
        "colab": {}
      },
      "source": [
        "# retrieve the reveiws by helpful and overall(star)\n",
        "def helpful_star_reviews(df,helpful_yes,star):\n",
        "    # filter the dataframe by overall(star)\n",
        "    overall = df[df[\"overall\"]==star]\n",
        "    reviews = overall[overall[\"helpful_yes\"]==helpful_yes]\n",
        "    # only take review column of the indicated star rows\n",
        "    reviews = reviews[\"reviewText\"]\n",
        "    return reviews"
      ],
      "execution_count": null,
      "outputs": []
    },
    {
      "cell_type": "code",
      "metadata": {
        "id": "BmmANeIZ1UDj",
        "colab_type": "code",
        "colab": {
          "base_uri": "https://localhost:8080/",
          "height": 198
        },
        "outputId": "e94ae614-d728-416f-b9bb-e7132ef25b51"
      },
      "source": [
        "# pulling the dataframe with helpful good 5 star reviews\n",
        "helpful_review = helpful_star_reviews(df_new, 1,5)\n",
        "# Create a combination of all review\n",
        "text = \" \".join(review for review in helpful_review)\n",
        "# Create stopword list:\n",
        "stopwords = set(STOPWORDS)\n",
        "stopwords.update([\"to\", \"this\", \"the\", \"is\", \"a\",\"an\",\"one\",\"will\", \"much\",\n",
        "                  \"make\",\"amp\",\"back\",\"ha\",\"really\"])\n",
        "# Generate a word cloud image\n",
        "wordcloud = WordCloud(stopwords=stopwords, background_color=\"white\", collocations=False).generate(text)\n",
        "# Display the generated image:\n",
        "plt.imshow(wordcloud, interpolation='bilinear')\n",
        "plt.axis(\"off\")\n",
        "plt.show()\n",
        "wordcloud.to_file('/content/drive/My Drive/M_helpful_5stars_words.png');"
      ],
      "execution_count": null,
      "outputs": [
        {
          "output_type": "display_data",
          "data": {
            "image/png": "[encoded data removed]",
            "text/plain": [
              "<Figure size 432x288 with 1 Axes>"
            ]
          },
          "metadata": {
            "tags": [],
            "needs_background": "light"
          }
        }
      ]
    },
    {
      "cell_type": "markdown",
      "metadata": {
        "id": "4vr-5g-RYEta",
        "colab_type": "text"
      },
      "source": [
        "# Join the table with Sales info"
      ]
    },
    {
      "cell_type": "code",
      "metadata": {
        "id": "lN2b7Btb_BsZ",
        "colab_type": "code",
        "colab": {}
      },
      "source": [
        "import pandas as pd\n",
        "import gzip\n",
        "\n",
        "def parse(path):\n",
        "  g = gzip.open(path, 'rb')\n",
        "  for l in g:\n",
        "    yield eval(l)\n",
        "\n",
        "def getDF(path):\n",
        "  i = 0\n",
        "  df = {}\n",
        "  for d in parse(path):\n",
        "    df[i] = d\n",
        "    i += 1\n",
        "  return pd.DataFrame.from_dict(df, orient='index')\n",
        "\n",
        "df_meta = getDF('/content/drive/My Drive/AmazonDataset/meta_Musical_Instruments.json.gz')"
      ],
      "execution_count": null,
      "outputs": []
    },
    {
      "cell_type": "code",
      "metadata": {
        "id": "R8mBV_khAI68",
        "colab_type": "code",
        "colab": {
          "base_uri": "https://localhost:8080/",
          "height": 147
        },
        "outputId": "7071bc0f-ea4e-433f-d880-f34668c1c60a"
      },
      "source": [
        "# left join\n",
        "df_combined =  pd.merge(df_new, df_meta, on='asin', how='left')\n",
        "df_combined = df_combined.drop([\"title\",\"imUrl\",\"categories\",\"related\",\"brand\",\"description\"],axis=1)\n",
        "df_combined.head(1)"
      ],
      "execution_count": null,
      "outputs": [
        {
          "output_type": "execute_result",
          "data": {
            "text/html": [
              "<div>\n",
              "<style scoped>\n",
              "    .dataframe tbody tr th:only-of-type {\n",
              "        vertical-align: middle;\n",
              "    }\n",
              "\n",
              "    .dataframe tbody tr th {\n",
              "        vertical-align: top;\n",
              "    }\n",
              "\n",
              "    .dataframe thead th {\n",
              "        text-align: right;\n",
              "    }\n",
              "</style>\n",
              "<table border=\"1\" class=\"dataframe\">\n",
              "  <thead>\n",
              "    <tr style=\"text-align: right;\">\n",
              "      <th></th>\n",
              "      <th>reviewerID</th>\n",
              "      <th>asin</th>\n",
              "      <th>reviewText</th>\n",
              "      <th>overall</th>\n",
              "      <th>summary</th>\n",
              "      <th>date</th>\n",
              "      <th>Year</th>\n",
              "      <th>Month</th>\n",
              "      <th>n_helpful</th>\n",
              "      <th>d_helpful</th>\n",
              "      <th>helpful_pct</th>\n",
              "      <th>helpful_yes</th>\n",
              "      <th>review_length</th>\n",
              "      <th>price</th>\n",
              "      <th>salesRank</th>\n",
              "    </tr>\n",
              "  </thead>\n",
              "  <tbody>\n",
              "    <tr>\n",
              "      <th>0</th>\n",
              "      <td>A2IBPI20UZIR0U</td>\n",
              "      <td>1384719342</td>\n",
              "      <td>Not much to write about here, but it does exac...</td>\n",
              "      <td>5.0</td>\n",
              "      <td>good</td>\n",
              "      <td>2014-02-28</td>\n",
              "      <td>2014</td>\n",
              "      <td>2</td>\n",
              "      <td>0</td>\n",
              "      <td>0</td>\n",
              "      <td>0.0</td>\n",
              "      <td>0</td>\n",
              "      <td>268</td>\n",
              "      <td>7.09</td>\n",
              "      <td>{'Musical Instruments': 2880}</td>\n",
              "    </tr>\n",
              "  </tbody>\n",
              "</table>\n",
              "</div>"
            ],
            "text/plain": [
              "       reviewerID        asin  ... price                      salesRank\n",
              "0  A2IBPI20UZIR0U  1384719342  ...  7.09  {'Musical Instruments': 2880}\n",
              "\n",
              "[1 rows x 15 columns]"
            ]
          },
          "metadata": {
            "tags": []
          },
          "execution_count": 18
        }
      ]
    },
    {
      "cell_type": "code",
      "metadata": {
        "id": "ZvKa7ZH87iX2",
        "colab_type": "code",
        "colab": {
          "base_uri": "https://localhost:8080/",
          "height": 265
        },
        "outputId": "a9f208f3-c00a-44a0-937e-823960ff93a5"
      },
      "source": [
        "# asin with star distribution\n",
        "df_avg_star = df_combined.groupby(\"asin\").mean().reset_index()\n",
        "ax = df_avg_star.plot.hist(x=\"asin\",y=\"overall\");\n",
        "fig = ax.get_figure()\n",
        "fig.savefig('/content/drive/My Drive/asin_star.png')"
      ],
      "execution_count": null,
      "outputs": [
        {
          "output_type": "display_data",
          "data": {
            "image/png": "[encoded data removed]",
            "text/plain": [
              "<Figure size 432x288 with 1 Axes>"
            ]
          },
          "metadata": {
            "tags": [],
            "needs_background": "light"
          }
        }
      ]
    },
    {
      "cell_type": "markdown",
      "metadata": {
        "id": "Exmmz5gexTGU",
        "colab_type": "text"
      },
      "source": [
        "**Time Series Data**"
      ]
    },
    {
      "cell_type": "code",
      "metadata": {
        "id": "83Ego2op2E5j",
        "colab_type": "code",
        "colab": {
          "base_uri": "https://localhost:8080/",
          "height": 269
        },
        "outputId": "85df6ee2-1365-4381-8c54-01ba81364750"
      },
      "source": [
        "# total number of reviews by time\n",
        "df_date = df_combined.groupby(\"date\").agg({\"reviewText\":\"count\"}).reset_index()\n",
        "df_date = df_date.set_index(\"date\").sort_index()\n",
        "ax = df_date.cumsum().plot(legend=False);\n",
        "fig = ax.get_figure()\n",
        "fig.savefig('/content/drive/My Drive/review_by_time.png')"
      ],
      "execution_count": null,
      "outputs": [
        {
          "output_type": "display_data",
          "data": {
            "image/png": "[encoded data removed]",
            "text/plain": [
              "<Figure size 432x288 with 1 Axes>"
            ]
          },
          "metadata": {
            "tags": [],
            "needs_background": "light"
          }
        }
      ]
    },
    {
      "cell_type": "code",
      "metadata": {
        "id": "JyK4Nl3ny2YU",
        "colab_type": "code",
        "colab": {
          "base_uri": "https://localhost:8080/",
          "height": 106
        },
        "outputId": "7e2deddf-5496-4c17-d062-ab6187a3477b"
      },
      "source": [
        "df_combined.groupby(\"asin\").agg({\"reviewerID\":\"count\"}).sort_values(\"reviewerID\",ascending=False).head(1)"
      ],
      "execution_count": null,
      "outputs": [
        {
          "output_type": "execute_result",
          "data": {
            "text/html": [
              "<div>\n",
              "<style scoped>\n",
              "    .dataframe tbody tr th:only-of-type {\n",
              "        vertical-align: middle;\n",
              "    }\n",
              "\n",
              "    .dataframe tbody tr th {\n",
              "        vertical-align: top;\n",
              "    }\n",
              "\n",
              "    .dataframe thead th {\n",
              "        text-align: right;\n",
              "    }\n",
              "</style>\n",
              "<table border=\"1\" class=\"dataframe\">\n",
              "  <thead>\n",
              "    <tr style=\"text-align: right;\">\n",
              "      <th></th>\n",
              "      <th>reviewerID</th>\n",
              "    </tr>\n",
              "    <tr>\n",
              "      <th>asin</th>\n",
              "      <th></th>\n",
              "    </tr>\n",
              "  </thead>\n",
              "  <tbody>\n",
              "    <tr>\n",
              "      <th>B003VWJ2K8</th>\n",
              "      <td>163</td>\n",
              "    </tr>\n",
              "  </tbody>\n",
              "</table>\n",
              "</div>"
            ],
            "text/plain": [
              "            reviewerID\n",
              "asin                  \n",
              "B003VWJ2K8         163"
            ]
          },
          "metadata": {
            "tags": []
          },
          "execution_count": 21
        }
      ]
    },
    {
      "cell_type": "code",
      "metadata": {
        "id": "Lno4pryC4uch",
        "colab_type": "code",
        "colab": {
          "base_uri": "https://localhost:8080/",
          "height": 294
        },
        "outputId": "41b36628-d30a-4d7d-cf69-f1bc49c34a6a"
      },
      "source": [
        "# the most number of review product\n",
        "df_asin = df_combined.groupby([\"asin\",\"date\"]).agg({\"reviewText\":\"count\"}).reset_index()\n",
        "df_asin = df_asin.set_index(\"date\").sort_index()\n",
        "df_asin[df_asin.asin==\"B003VWJ2K8\"].cumsum().plot(legend=False);\n",
        "for i in df_combined[df_combined.asin==\"B003VWJ2K8\"].salesRank:\n",
        "  print(i)\n",
        "  break"
      ],
      "execution_count": null,
      "outputs": [
        {
          "output_type": "stream",
          "text": [
            "{'Musical Instruments': 17}\n"
          ],
          "name": "stdout"
        },
        {
          "output_type": "display_data",
          "data": {
            "image/png": "[encoded data removed]",
            "text/plain": [
              "<Figure size 432x288 with 1 Axes>"
            ]
          },
          "metadata": {
            "tags": [],
            "needs_background": "light"
          }
        }
      ]
    },
    {
      "cell_type": "markdown",
      "metadata": {
        "id": "2PJpXiK9YqHU",
        "colab_type": "text"
      },
      "source": [
        "**Check the relationship between price and reviews**"
      ]
    },
    {
      "cell_type": "code",
      "metadata": {
        "id": "Txk1LGGdAfx7",
        "colab_type": "code",
        "colab": {
          "base_uri": "https://localhost:8080/",
          "height": 147
        },
        "outputId": "dca75c1b-977e-49bd-a271-044d5fcfc3db"
      },
      "source": [
        "df_price = df_combined.drop(\"salesRank\",axis=1)\n",
        "df_price.head(1)"
      ],
      "execution_count": null,
      "outputs": [
        {
          "output_type": "execute_result",
          "data": {
            "text/html": [
              "<div>\n",
              "<style scoped>\n",
              "    .dataframe tbody tr th:only-of-type {\n",
              "        vertical-align: middle;\n",
              "    }\n",
              "\n",
              "    .dataframe tbody tr th {\n",
              "        vertical-align: top;\n",
              "    }\n",
              "\n",
              "    .dataframe thead th {\n",
              "        text-align: right;\n",
              "    }\n",
              "</style>\n",
              "<table border=\"1\" class=\"dataframe\">\n",
              "  <thead>\n",
              "    <tr style=\"text-align: right;\">\n",
              "      <th></th>\n",
              "      <th>reviewerID</th>\n",
              "      <th>asin</th>\n",
              "      <th>reviewText</th>\n",
              "      <th>overall</th>\n",
              "      <th>summary</th>\n",
              "      <th>date</th>\n",
              "      <th>Year</th>\n",
              "      <th>Month</th>\n",
              "      <th>n_helpful</th>\n",
              "      <th>d_helpful</th>\n",
              "      <th>helpful_pct</th>\n",
              "      <th>helpful_yes</th>\n",
              "      <th>review_length</th>\n",
              "      <th>price</th>\n",
              "    </tr>\n",
              "  </thead>\n",
              "  <tbody>\n",
              "    <tr>\n",
              "      <th>0</th>\n",
              "      <td>A2IBPI20UZIR0U</td>\n",
              "      <td>1384719342</td>\n",
              "      <td>Not much to write about here, but it does exac...</td>\n",
              "      <td>5.0</td>\n",
              "      <td>good</td>\n",
              "      <td>2014-02-28</td>\n",
              "      <td>2014</td>\n",
              "      <td>2</td>\n",
              "      <td>0</td>\n",
              "      <td>0</td>\n",
              "      <td>0.0</td>\n",
              "      <td>0</td>\n",
              "      <td>268</td>\n",
              "      <td>7.09</td>\n",
              "    </tr>\n",
              "  </tbody>\n",
              "</table>\n",
              "</div>"
            ],
            "text/plain": [
              "       reviewerID        asin  ... review_length  price\n",
              "0  A2IBPI20UZIR0U  1384719342  ...           268   7.09\n",
              "\n",
              "[1 rows x 14 columns]"
            ]
          },
          "metadata": {
            "tags": []
          },
          "execution_count": 23
        }
      ]
    },
    {
      "cell_type": "code",
      "metadata": {
        "id": "h7tsXHl3NDC3",
        "colab_type": "code",
        "colab": {
          "base_uri": "https://localhost:8080/",
          "height": 34
        },
        "outputId": "a4075cfb-a5e6-4c2b-d71b-a6d4fac3bbf1"
      },
      "source": [
        "df_price = df_price.dropna()\n",
        "\n",
        "# Calculate how many data loss after dropping\n",
        "loss = round((1-df_price.reviewerID.value_counts().sum()/df_combined.reviewerID.value_counts().sum())*100,2)\n",
        "print(f\"There is {loss}% loss from the total records.\")"
      ],
      "execution_count": null,
      "outputs": [
        {
          "output_type": "stream",
          "text": [
            "There is 0.14% loss from the total records.\n"
          ],
          "name": "stdout"
        }
      ]
    },
    {
      "cell_type": "code",
      "metadata": {
        "id": "R9dAgR2VOAD3",
        "colab_type": "code",
        "colab": {
          "base_uri": "https://localhost:8080/",
          "height": 297
        },
        "outputId": "2c929ad7-4f68-498b-c37e-97974a401b6d"
      },
      "source": [
        "# create two columns plotting area\n",
        "fig, axes = plt.subplots(ncols=2)\n",
        "# plot on 1st area by using pandas\n",
        "df_price.groupby(\"asin\").agg({\"price\":\"mean\",\"overall\":\"mean\",\"reviewText\":\"count\"}).plot.scatter(x=\"price\",y=\"overall\",ax=axes[0]);\n",
        "# plot on second area by using pandas\n",
        "df_price.groupby(\"asin\").agg({\"price\":\"mean\",\"overall\":\"mean\",\"reviewText\":\"count\"}).plot.scatter(x=\"reviewText\",y=\"overall\",ax=axes[1]);\n",
        "# ensure no overlapping between these two charts\n",
        "fig.tight_layout()\n",
        "fig.savefig(\"/content/drive/My Drive/M_price_and_review_by_star.png\", dpi=100, bbox_inches=\"tight\")"
      ],
      "execution_count": null,
      "outputs": [
        {
          "output_type": "display_data",
          "data": {
            "image/png": "[encoded data removed]",
            "text/plain": [
              "<Figure size 432x288 with 2 Axes>"
            ]
          },
          "metadata": {
            "tags": [],
            "needs_background": "light"
          }
        }
      ]
    },
    {
      "cell_type": "code",
      "metadata": {
        "id": "uw6ehmdrebJV",
        "colab_type": "code",
        "colab": {
          "base_uri": "https://localhost:8080/",
          "height": 279
        },
        "outputId": "0862117e-f7cf-419b-9ff7-7f248da6b2c4"
      },
      "source": [
        "df_price_new = df_price.groupby(\"asin\").agg({\"price\":\"mean\",\"overall\":\"mean\",\"reviewText\":\"count\"})\n",
        "\n",
        "fig, ax = plt.subplots()\n",
        "ax.scatter(df_price_new[\"reviewText\"], df_price_new[\"price\"]);\n",
        "ax.set_xlabel(\"number of reviews\");\n",
        "ax.set_ylabel(\"price\");\n",
        "fig.savefig(\"/content/drive/My Drive/M_price_and_review.png\", dpi=100, bbox_inches=\"tight\")"
      ],
      "execution_count": null,
      "outputs": [
        {
          "output_type": "display_data",
          "data": {
            "image/png": "[encoded data removed]",
            "text/plain": [
              "<Figure size 432x288 with 1 Axes>"
            ]
          },
          "metadata": {
            "tags": [],
            "needs_background": "light"
          }
        }
      ]
    },
    {
      "cell_type": "markdown",
      "metadata": {
        "id": "p8KCt9uVa1TN",
        "colab_type": "text"
      },
      "source": [
        "**Check the relationship between salesRank and reviews**"
      ]
    },
    {
      "cell_type": "code",
      "metadata": {
        "id": "KdHmNm7pAq9u",
        "colab_type": "code",
        "colab": {
          "base_uri": "https://localhost:8080/",
          "height": 147
        },
        "outputId": "583ea52e-21d3-444f-9136-4e10eb8ecc1d"
      },
      "source": [
        "df_rank = df_combined.drop(\"price\",axis=1)\n",
        "df_rank[\"salesRank\"] = df_rank[\"salesRank\"].astype('str')\n",
        "df_rank[\"rank\"] = df_rank[\"salesRank\"].str.extract('(\\d+)')\n",
        "df_rank.head(1)"
      ],
      "execution_count": null,
      "outputs": [
        {
          "output_type": "execute_result",
          "data": {
            "text/html": [
              "<div>\n",
              "<style scoped>\n",
              "    .dataframe tbody tr th:only-of-type {\n",
              "        vertical-align: middle;\n",
              "    }\n",
              "\n",
              "    .dataframe tbody tr th {\n",
              "        vertical-align: top;\n",
              "    }\n",
              "\n",
              "    .dataframe thead th {\n",
              "        text-align: right;\n",
              "    }\n",
              "</style>\n",
              "<table border=\"1\" class=\"dataframe\">\n",
              "  <thead>\n",
              "    <tr style=\"text-align: right;\">\n",
              "      <th></th>\n",
              "      <th>reviewerID</th>\n",
              "      <th>asin</th>\n",
              "      <th>reviewText</th>\n",
              "      <th>overall</th>\n",
              "      <th>summary</th>\n",
              "      <th>date</th>\n",
              "      <th>Year</th>\n",
              "      <th>Month</th>\n",
              "      <th>n_helpful</th>\n",
              "      <th>d_helpful</th>\n",
              "      <th>helpful_pct</th>\n",
              "      <th>helpful_yes</th>\n",
              "      <th>review_length</th>\n",
              "      <th>salesRank</th>\n",
              "      <th>rank</th>\n",
              "    </tr>\n",
              "  </thead>\n",
              "  <tbody>\n",
              "    <tr>\n",
              "      <th>0</th>\n",
              "      <td>A2IBPI20UZIR0U</td>\n",
              "      <td>1384719342</td>\n",
              "      <td>Not much to write about here, but it does exac...</td>\n",
              "      <td>5.0</td>\n",
              "      <td>good</td>\n",
              "      <td>2014-02-28</td>\n",
              "      <td>2014</td>\n",
              "      <td>2</td>\n",
              "      <td>0</td>\n",
              "      <td>0</td>\n",
              "      <td>0.0</td>\n",
              "      <td>0</td>\n",
              "      <td>268</td>\n",
              "      <td>{'Musical Instruments': 2880}</td>\n",
              "      <td>2880</td>\n",
              "    </tr>\n",
              "  </tbody>\n",
              "</table>\n",
              "</div>"
            ],
            "text/plain": [
              "       reviewerID        asin  ...                      salesRank  rank\n",
              "0  A2IBPI20UZIR0U  1384719342  ...  {'Musical Instruments': 2880}  2880\n",
              "\n",
              "[1 rows x 15 columns]"
            ]
          },
          "metadata": {
            "tags": []
          },
          "execution_count": 27
        }
      ]
    },
    {
      "cell_type": "code",
      "metadata": {
        "id": "jQ6PyKN5B0-C",
        "colab_type": "code",
        "colab": {
          "base_uri": "https://localhost:8080/",
          "height": 34
        },
        "outputId": "df552a5a-d736-42ff-9c02-0abc3b86427a"
      },
      "source": [
        "df_rank = df_rank.dropna()\n",
        "\n",
        "# Calculate how many data loss after dropping\n",
        "loss = round((1-df_rank.reviewerID.value_counts().sum()/df_combined.reviewerID.value_counts().sum())*100,2)\n",
        "print(f\"There is {loss}% loss from the total records.\")"
      ],
      "execution_count": null,
      "outputs": [
        {
          "output_type": "stream",
          "text": [
            "There is 0.61% loss from the total records.\n"
          ],
          "name": "stdout"
        }
      ]
    },
    {
      "cell_type": "code",
      "metadata": {
        "id": "GCjvikQ03ZS7",
        "colab_type": "code",
        "colab": {
          "base_uri": "https://localhost:8080/",
          "height": 34
        },
        "outputId": "1c4a7a8e-2aa7-40ac-dcf2-3cc3d5b53c69"
      },
      "source": [
        "df_rank[\"rank\"] = df_rank[\"rank\"].astype(str).astype(int)\n",
        "df_rank_new = df_rank.groupby(\"asin\").agg({\"rank\":\"mean\",\"overall\":\"mean\",\"reviewText\":\"count\"}).sort_values(\"rank\",ascending=True)\n",
        "\n",
        "top = df_rank_new[\"rank\"].min()\n",
        "bottom = df_rank_new[\"rank\"].max()\n",
        "unique = df_rank_new[\"rank\"].nunique()\n",
        "print(f\"The data set ranking range is between {top} and {bottom}, and has {unique} products.\")"
      ],
      "execution_count": null,
      "outputs": [
        {
          "output_type": "stream",
          "text": [
            "The data set ranking range is between 4 and 65127, and has 840 products.\n"
          ],
          "name": "stdout"
        }
      ]
    },
    {
      "cell_type": "code",
      "metadata": {
        "id": "EipONBXs6MI-",
        "colab_type": "code",
        "colab": {
          "base_uri": "https://localhost:8080/",
          "height": 254
        },
        "outputId": "c714d1da-ebc0-4c2b-9fe5-9405f547528a"
      },
      "source": [
        "# set the range of bins\n",
        "bins = [0, 500, 1500, 2500, 5000, 10000, 100000]\n",
        "\n",
        "# label by the range\n",
        "cuts = pd.cut(df_rank_new[\"rank\"], bins, include_lowest=True)\n",
        "df_rank_new[\"SalesRanking\"] = cuts\n",
        "\n",
        "df_rank_new_1 = df_rank_new.groupby(\"SalesRanking\").agg({\"overall\":\"mean\",\"rank\":\"count\"})\n",
        "df_rank_new_1[\"% of total\"] = round(df_rank_new_1[\"rank\"]/unique*100,2)\n",
        "df_rank_new_1 = df_rank_new_1.rename(columns={\"overall\": \"star\", \"rank\": \"product counts\"})\n",
        "df_rank_new_1"
      ],
      "execution_count": null,
      "outputs": [
        {
          "output_type": "execute_result",
          "data": {
            "text/html": [
              "<div>\n",
              "<style scoped>\n",
              "    .dataframe tbody tr th:only-of-type {\n",
              "        vertical-align: middle;\n",
              "    }\n",
              "\n",
              "    .dataframe tbody tr th {\n",
              "        vertical-align: top;\n",
              "    }\n",
              "\n",
              "    .dataframe thead th {\n",
              "        text-align: right;\n",
              "    }\n",
              "</style>\n",
              "<table border=\"1\" class=\"dataframe\">\n",
              "  <thead>\n",
              "    <tr style=\"text-align: right;\">\n",
              "      <th></th>\n",
              "      <th>star</th>\n",
              "      <th>product counts</th>\n",
              "      <th>% of total</th>\n",
              "    </tr>\n",
              "    <tr>\n",
              "      <th>SalesRanking</th>\n",
              "      <th></th>\n",
              "      <th></th>\n",
              "      <th></th>\n",
              "    </tr>\n",
              "  </thead>\n",
              "  <tbody>\n",
              "    <tr>\n",
              "      <th>(-0.001, 500.0]</th>\n",
              "      <td>4.469725</td>\n",
              "      <td>189</td>\n",
              "      <td>22.50</td>\n",
              "    </tr>\n",
              "    <tr>\n",
              "      <th>(500.0, 1500.0]</th>\n",
              "      <td>4.488116</td>\n",
              "      <td>209</td>\n",
              "      <td>24.88</td>\n",
              "    </tr>\n",
              "    <tr>\n",
              "      <th>(1500.0, 2500.0]</th>\n",
              "      <td>4.514486</td>\n",
              "      <td>111</td>\n",
              "      <td>13.21</td>\n",
              "    </tr>\n",
              "    <tr>\n",
              "      <th>(2500.0, 5000.0]</th>\n",
              "      <td>4.423311</td>\n",
              "      <td>135</td>\n",
              "      <td>16.07</td>\n",
              "    </tr>\n",
              "    <tr>\n",
              "      <th>(5000.0, 10000.0]</th>\n",
              "      <td>4.415195</td>\n",
              "      <td>92</td>\n",
              "      <td>10.95</td>\n",
              "    </tr>\n",
              "    <tr>\n",
              "      <th>(10000.0, 100000.0]</th>\n",
              "      <td>4.468929</td>\n",
              "      <td>156</td>\n",
              "      <td>18.57</td>\n",
              "    </tr>\n",
              "  </tbody>\n",
              "</table>\n",
              "</div>"
            ],
            "text/plain": [
              "                         star  product counts  % of total\n",
              "SalesRanking                                             \n",
              "(-0.001, 500.0]      4.469725             189       22.50\n",
              "(500.0, 1500.0]      4.488116             209       24.88\n",
              "(1500.0, 2500.0]     4.514486             111       13.21\n",
              "(2500.0, 5000.0]     4.423311             135       16.07\n",
              "(5000.0, 10000.0]    4.415195              92       10.95\n",
              "(10000.0, 100000.0]  4.468929             156       18.57"
            ]
          },
          "metadata": {
            "tags": []
          },
          "execution_count": 30
        }
      ]
    }
  ]
}